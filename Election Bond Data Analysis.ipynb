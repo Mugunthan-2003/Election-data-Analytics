{
 "cells": [
  {
   "cell_type": "code",
   "execution_count": 1,
   "metadata": {},
   "outputs": [],
   "source": [
    "import pandas as pd\n",
    "import matplotlib.pyplot as plt  # Importing pyplot submodule with alias plt\n"
   ]
  },
  {
   "cell_type": "code",
   "execution_count": 2,
   "metadata": {},
   "outputs": [],
   "source": [
    "def find_duplicate_records(df):\n",
    "    # Check for duplicate records\n",
    "    duplicate_rows = df[df.duplicated()]\n",
    "\n",
    "    if not duplicate_rows.empty:\n",
    "        print(\"Duplicate records found:\")\n",
    "        print(duplicate_rows)\n",
    "    else:\n",
    "        print(\"No duplicate records found.\")\n"
   ]
  },
  {
   "cell_type": "markdown",
   "metadata": {},
   "source": [
    "Company Data Preprocessing"
   ]
  },
  {
   "cell_type": "code",
   "execution_count": 3,
   "metadata": {},
   "outputs": [],
   "source": [
    "com=pd.read_csv(r\"C:\\Users\\Mugun\\Desktop\\ECI\\Company.csv\")"
   ]
  },
  {
   "cell_type": "code",
   "execution_count": 4,
   "metadata": {},
   "outputs": [
    {
     "name": "stdout",
     "output_type": "stream",
     "text": [
      "No.of Company records :  18871\n"
     ]
    }
   ],
   "source": [
    "print(\"No.of Company records : \",len(com))"
   ]
  },
  {
   "cell_type": "code",
   "execution_count": 5,
   "metadata": {},
   "outputs": [
    {
     "data": {
      "text/plain": [
       "Index(['Sr No.', 'Reference No  (URN)', 'Journal Date', 'Date of  Purchase',\n",
       "       'Date of Expiry', 'Name of the Purchaser', 'Prefix', 'Bond Number',\n",
       "       'Denominations', 'Issue Branch Code', 'Issue Teller', 'Status'],\n",
       "      dtype='object')"
      ]
     },
     "execution_count": 5,
     "metadata": {},
     "output_type": "execute_result"
    }
   ],
   "source": [
    "com.columns"
   ]
  },
  {
   "cell_type": "code",
   "execution_count": 6,
   "metadata": {},
   "outputs": [
    {
     "data": {
      "text/html": [
       "<div>\n",
       "<style scoped>\n",
       "    .dataframe tbody tr th:only-of-type {\n",
       "        vertical-align: middle;\n",
       "    }\n",
       "\n",
       "    .dataframe tbody tr th {\n",
       "        vertical-align: top;\n",
       "    }\n",
       "\n",
       "    .dataframe thead th {\n",
       "        text-align: right;\n",
       "    }\n",
       "</style>\n",
       "<table border=\"1\" class=\"dataframe\">\n",
       "  <thead>\n",
       "    <tr style=\"text-align: right;\">\n",
       "      <th></th>\n",
       "      <th>Sr No.</th>\n",
       "      <th>Reference No  (URN)</th>\n",
       "      <th>Journal Date</th>\n",
       "      <th>Date of  Purchase</th>\n",
       "      <th>Date of Expiry</th>\n",
       "      <th>Name of the Purchaser</th>\n",
       "      <th>Prefix</th>\n",
       "      <th>Bond Number</th>\n",
       "      <th>Denominations</th>\n",
       "      <th>Issue Branch Code</th>\n",
       "      <th>Issue Teller</th>\n",
       "      <th>Status</th>\n",
       "    </tr>\n",
       "  </thead>\n",
       "  <tbody>\n",
       "    <tr>\n",
       "      <th>0</th>\n",
       "      <td>1</td>\n",
       "      <td>1201900000000000000</td>\n",
       "      <td>12-04-2019</td>\n",
       "      <td>12-04-2019</td>\n",
       "      <td>26-04-2019</td>\n",
       "      <td>A B C INDIA LIMITED</td>\n",
       "      <td>TL</td>\n",
       "      <td>11448</td>\n",
       "      <td>1000000</td>\n",
       "      <td>1</td>\n",
       "      <td>5899230</td>\n",
       "      <td>Paid</td>\n",
       "    </tr>\n",
       "    <tr>\n",
       "      <th>1</th>\n",
       "      <td>2</td>\n",
       "      <td>1201900000000000000</td>\n",
       "      <td>12-04-2019</td>\n",
       "      <td>12-04-2019</td>\n",
       "      <td>26-04-2019</td>\n",
       "      <td>A B C INDIA LIMITED</td>\n",
       "      <td>TL</td>\n",
       "      <td>11447</td>\n",
       "      <td>1000000</td>\n",
       "      <td>1</td>\n",
       "      <td>5899230</td>\n",
       "      <td>Paid</td>\n",
       "    </tr>\n",
       "  </tbody>\n",
       "</table>\n",
       "</div>"
      ],
      "text/plain": [
       "   Sr No.  Reference No  (URN) Journal Date Date of  Purchase Date of Expiry  \\\n",
       "0       1  1201900000000000000   12-04-2019        12-04-2019     26-04-2019   \n",
       "1       2  1201900000000000000   12-04-2019        12-04-2019     26-04-2019   \n",
       "\n",
       "  Name of the Purchaser Prefix  Bond Number  Denominations  Issue Branch Code  \\\n",
       "0   A B C INDIA LIMITED     TL        11448        1000000                  1   \n",
       "1   A B C INDIA LIMITED     TL        11447        1000000                  1   \n",
       "\n",
       "   Issue Teller Status  \n",
       "0       5899230   Paid  \n",
       "1       5899230   Paid  "
      ]
     },
     "execution_count": 6,
     "metadata": {},
     "output_type": "execute_result"
    }
   ],
   "source": [
    "com.head(2)"
   ]
  },
  {
   "cell_type": "code",
   "execution_count": 7,
   "metadata": {},
   "outputs": [
    {
     "name": "stdout",
     "output_type": "stream",
     "text": [
      "<class 'pandas.core.frame.DataFrame'>\n",
      "RangeIndex: 18871 entries, 0 to 18870\n",
      "Data columns (total 12 columns):\n",
      " #   Column                 Non-Null Count  Dtype \n",
      "---  ------                 --------------  ----- \n",
      " 0   Sr No.                 18871 non-null  int64 \n",
      " 1   Reference No  (URN)    18871 non-null  object\n",
      " 2   Journal Date           18871 non-null  object\n",
      " 3   Date of  Purchase      18871 non-null  object\n",
      " 4   Date of Expiry         18871 non-null  object\n",
      " 5   Name of the Purchaser  18871 non-null  object\n",
      " 6   Prefix                 18871 non-null  object\n",
      " 7   Bond Number            18871 non-null  int64 \n",
      " 8   Denominations          18871 non-null  int64 \n",
      " 9   Issue Branch Code      18871 non-null  int64 \n",
      " 10  Issue Teller           18871 non-null  int64 \n",
      " 11  Status                 18871 non-null  object\n",
      "dtypes: int64(5), object(7)\n",
      "memory usage: 1.7+ MB\n"
     ]
    }
   ],
   "source": [
    "com.info()"
   ]
  },
  {
   "cell_type": "code",
   "execution_count": 8,
   "metadata": {},
   "outputs": [],
   "source": [
    "com['Prefix_Bond_Number'] = com['Prefix'] + '_' + com['Bond Number'].astype(str)"
   ]
  },
  {
   "cell_type": "code",
   "execution_count": 9,
   "metadata": {},
   "outputs": [],
   "source": [
    "com.drop(['Prefix', 'Bond Number','Status','Sr No.', 'Reference No  (URN)'], axis=1, inplace=True)"
   ]
  },
  {
   "cell_type": "code",
   "execution_count": 10,
   "metadata": {},
   "outputs": [
    {
     "data": {
      "text/plain": [
       "Index(['Journal Date', 'Date of  Purchase', 'Date of Expiry',\n",
       "       'Name of the Purchaser', 'Denominations', 'Issue Branch Code',\n",
       "       'Issue Teller', 'Prefix_Bond_Number'],\n",
       "      dtype='object')"
      ]
     },
     "execution_count": 10,
     "metadata": {},
     "output_type": "execute_result"
    }
   ],
   "source": [
    "com.columns"
   ]
  },
  {
   "cell_type": "code",
   "execution_count": 11,
   "metadata": {},
   "outputs": [
    {
     "name": "stdout",
     "output_type": "stream",
     "text": [
      "<class 'pandas.core.frame.DataFrame'>\n",
      "RangeIndex: 18871 entries, 0 to 18870\n",
      "Data columns (total 8 columns):\n",
      " #   Column                 Non-Null Count  Dtype \n",
      "---  ------                 --------------  ----- \n",
      " 0   Journal Date           18871 non-null  object\n",
      " 1   Date of  Purchase      18871 non-null  object\n",
      " 2   Date of Expiry         18871 non-null  object\n",
      " 3   Name of the Purchaser  18871 non-null  object\n",
      " 4   Denominations          18871 non-null  int64 \n",
      " 5   Issue Branch Code      18871 non-null  int64 \n",
      " 6   Issue Teller           18871 non-null  int64 \n",
      " 7   Prefix_Bond_Number     18871 non-null  object\n",
      "dtypes: int64(3), object(5)\n",
      "memory usage: 1.2+ MB\n"
     ]
    }
   ],
   "source": [
    "com.info()"
   ]
  },
  {
   "cell_type": "code",
   "execution_count": 12,
   "metadata": {},
   "outputs": [
    {
     "data": {
      "text/html": [
       "<div>\n",
       "<style scoped>\n",
       "    .dataframe tbody tr th:only-of-type {\n",
       "        vertical-align: middle;\n",
       "    }\n",
       "\n",
       "    .dataframe tbody tr th {\n",
       "        vertical-align: top;\n",
       "    }\n",
       "\n",
       "    .dataframe thead th {\n",
       "        text-align: right;\n",
       "    }\n",
       "</style>\n",
       "<table border=\"1\" class=\"dataframe\">\n",
       "  <thead>\n",
       "    <tr style=\"text-align: right;\">\n",
       "      <th></th>\n",
       "      <th>Journal Date</th>\n",
       "      <th>Date of  Purchase</th>\n",
       "      <th>Date of Expiry</th>\n",
       "      <th>Name of the Purchaser</th>\n",
       "      <th>Denominations</th>\n",
       "      <th>Issue Branch Code</th>\n",
       "      <th>Issue Teller</th>\n",
       "      <th>Prefix_Bond_Number</th>\n",
       "    </tr>\n",
       "  </thead>\n",
       "  <tbody>\n",
       "    <tr>\n",
       "      <th>0</th>\n",
       "      <td>12-04-2019</td>\n",
       "      <td>12-04-2019</td>\n",
       "      <td>26-04-2019</td>\n",
       "      <td>A B C INDIA LIMITED</td>\n",
       "      <td>1000000</td>\n",
       "      <td>1</td>\n",
       "      <td>5899230</td>\n",
       "      <td>TL_11448</td>\n",
       "    </tr>\n",
       "    <tr>\n",
       "      <th>1</th>\n",
       "      <td>12-04-2019</td>\n",
       "      <td>12-04-2019</td>\n",
       "      <td>26-04-2019</td>\n",
       "      <td>A B C INDIA LIMITED</td>\n",
       "      <td>1000000</td>\n",
       "      <td>1</td>\n",
       "      <td>5899230</td>\n",
       "      <td>TL_11447</td>\n",
       "    </tr>\n",
       "  </tbody>\n",
       "</table>\n",
       "</div>"
      ],
      "text/plain": [
       "  Journal Date Date of  Purchase Date of Expiry Name of the Purchaser  \\\n",
       "0   12-04-2019        12-04-2019     26-04-2019   A B C INDIA LIMITED   \n",
       "1   12-04-2019        12-04-2019     26-04-2019   A B C INDIA LIMITED   \n",
       "\n",
       "   Denominations  Issue Branch Code  Issue Teller Prefix_Bond_Number  \n",
       "0        1000000                  1       5899230           TL_11448  \n",
       "1        1000000                  1       5899230           TL_11447  "
      ]
     },
     "execution_count": 12,
     "metadata": {},
     "output_type": "execute_result"
    }
   ],
   "source": [
    "com.head(2)"
   ]
  },
  {
   "cell_type": "code",
   "execution_count": 13,
   "metadata": {},
   "outputs": [
    {
     "data": {
      "text/plain": [
       "Index([], dtype='object')"
      ]
     },
     "execution_count": 13,
     "metadata": {},
     "output_type": "execute_result"
    }
   ],
   "source": [
    "com.columns[com.isnull().any()]"
   ]
  },
  {
   "cell_type": "code",
   "execution_count": 14,
   "metadata": {},
   "outputs": [
    {
     "name": "stdout",
     "output_type": "stream",
     "text": [
      "No duplicate records found.\n"
     ]
    }
   ],
   "source": [
    "# Call the function with your DataFrame\n",
    "find_duplicate_records(com)"
   ]
  },
  {
   "cell_type": "code",
   "execution_count": 15,
   "metadata": {},
   "outputs": [
    {
     "name": "stdout",
     "output_type": "stream",
     "text": [
      "                                 Name of the Purchaser  Denominations\n",
      "356                FUTURE GAMING AND HOTEL SERVICES PR    12080000000\n",
      "654     MEGHA ENGINEERING AND INFRASTRUCTURES LI MITED     8210000000\n",
      "868                      QWIKSUPPLYCHAINPRIVATELIMITED     4100000000\n",
      "419                              HALDIA ENERGY LIMITED     3770000000\n",
      "1252                                   VEDANTA LIMITED     3756500000\n",
      "336                          ESSEL MINING AND INDS LTD     2245000000\n",
      "1303    WESTERN UP POWER TRANSMISSION COMPANY LI MITED     2200000000\n",
      "558                    KEVENTER FOODPARK INFRA LIMITED     1950000000\n",
      "621                                      MADANLAL LTD.     1855000000\n",
      "176                              BHARTI AIRTEL LIMITED     1830000000\n",
      "1310                 YASHODA SUPER SPECIALITY HOSPITAL     1620000000\n",
      "1225               UTKAL ALUMINA INTERNATIONAL LIMITED     1353000000\n",
      "315                  DLF COMMERCIAL DEVELOPERS LIMITED     1300000000\n",
      "667                            MKJ ENTERPRISES LIMITED     1283500000\n",
      "518                     JINDAL STEEL AND POWER LIMITED     1230000000\n",
      "142        B G SHIRKE CONSTRUCTION TECHNOLOGY PVT L TD     1170000000\n",
      "295                    DHARIWAL INFRASTRUCTURE LIMITED     1150000000\n",
      "193                     BIRLACARBONINDIAPRIVATELIMITED     1050000000\n",
      "238                CHENNAI GREEN WOODS PRIVATE LIMITED     1050000000\n",
      "967                                  RUNGTA SONS P LTD     1000000000\n",
      "357   FUTURE GAMING AND HOTEL SERVICES PRIVATE LIMITED      950000000\n",
      "463                        IFB AGRO INDUSTRIES LIMITED      923000000\n",
      "1196                           TORRENT  POWER  LIMITED      865000000\n",
      "134                      AVEES TRADING FINANCE PVT LTD      855000000\n",
      "322                        DR.REDDY'S LABORATORIES LTD      800000000\n",
      "830                PRARAMBH SECURITIES PVT LTDPROPRIET      780000000\n",
      "653        MEGHA ENGINEERING & INFRASTRUCTURES LIMITED      750000000\n",
      "655          MEGHA ENGINEERING AND INFRASTRUCTURES LTD      700000000\n",
      "358           FUTURE GAMING AND HOTEL SERVICES PVT LTD      650000000\n",
      "668                                MKJ ENTERPRISES LTD      640700000\n"
     ]
    }
   ],
   "source": [
    "grouped_df = com.groupby(['Name of the Purchaser'])['Denominations'].sum().reset_index()\n",
    "grouped_df_sorted = grouped_df.sort_values(by='Denominations', ascending=False)\n",
    "print(grouped_df_sorted[:30])"
   ]
  },
  {
   "cell_type": "markdown",
   "metadata": {},
   "source": [
    "Party Data Preprocessing"
   ]
  },
  {
   "cell_type": "code",
   "execution_count": 16,
   "metadata": {},
   "outputs": [],
   "source": [
    "pat=pd.read_csv(r\"C:\\Users\\Mugun\\Desktop\\ECI\\Party.csv\")"
   ]
  },
  {
   "cell_type": "code",
   "execution_count": 17,
   "metadata": {},
   "outputs": [
    {
     "name": "stdout",
     "output_type": "stream",
     "text": [
      "No.of Party records :  20421\n"
     ]
    }
   ],
   "source": [
    "print(\"No.of Party records : \",len(pat))"
   ]
  },
  {
   "cell_type": "code",
   "execution_count": 18,
   "metadata": {},
   "outputs": [
    {
     "data": {
      "text/plain": [
       "Index(['Sr No.', 'Date of Encashment', 'Name of the Political Party',\n",
       "       'Account no. of Political Party', 'Prefix', 'Bond Number',\n",
       "       'Denominations', 'Pay Branch Code', 'Pay Teller'],\n",
       "      dtype='object')"
      ]
     },
     "execution_count": 18,
     "metadata": {},
     "output_type": "execute_result"
    }
   ],
   "source": [
    "pat.columns"
   ]
  },
  {
   "cell_type": "code",
   "execution_count": 19,
   "metadata": {},
   "outputs": [
    {
     "name": "stdout",
     "output_type": "stream",
     "text": [
      "<class 'pandas.core.frame.DataFrame'>\n",
      "RangeIndex: 20421 entries, 0 to 20420\n",
      "Data columns (total 9 columns):\n",
      " #   Column                          Non-Null Count  Dtype \n",
      "---  ------                          --------------  ----- \n",
      " 0   Sr No.                          20421 non-null  int64 \n",
      " 1   Date of Encashment              20421 non-null  object\n",
      " 2   Name of the Political Party     20421 non-null  object\n",
      " 3   Account no. of Political Party  20421 non-null  object\n",
      " 4   Prefix                          20421 non-null  object\n",
      " 5   Bond Number                     20421 non-null  int64 \n",
      " 6   Denominations                   20421 non-null  int64 \n",
      " 7   Pay Branch Code                 20421 non-null  int64 \n",
      " 8   Pay Teller                      20421 non-null  int64 \n",
      "dtypes: int64(5), object(4)\n",
      "memory usage: 1.4+ MB\n"
     ]
    }
   ],
   "source": [
    "pat.info()"
   ]
  },
  {
   "cell_type": "code",
   "execution_count": 20,
   "metadata": {},
   "outputs": [
    {
     "data": {
      "text/html": [
       "<div>\n",
       "<style scoped>\n",
       "    .dataframe tbody tr th:only-of-type {\n",
       "        vertical-align: middle;\n",
       "    }\n",
       "\n",
       "    .dataframe tbody tr th {\n",
       "        vertical-align: top;\n",
       "    }\n",
       "\n",
       "    .dataframe thead th {\n",
       "        text-align: right;\n",
       "    }\n",
       "</style>\n",
       "<table border=\"1\" class=\"dataframe\">\n",
       "  <thead>\n",
       "    <tr style=\"text-align: right;\">\n",
       "      <th></th>\n",
       "      <th>Sr No.</th>\n",
       "      <th>Date of Encashment</th>\n",
       "      <th>Name of the Political Party</th>\n",
       "      <th>Account no. of Political Party</th>\n",
       "      <th>Prefix</th>\n",
       "      <th>Bond Number</th>\n",
       "      <th>Denominations</th>\n",
       "      <th>Pay Branch Code</th>\n",
       "      <th>Pay Teller</th>\n",
       "    </tr>\n",
       "  </thead>\n",
       "  <tbody>\n",
       "    <tr>\n",
       "      <th>0</th>\n",
       "      <td>1</td>\n",
       "      <td>12-04-2019</td>\n",
       "      <td>ALL INDIA ANNA DRAVIDA MUNNETRA KAZHAGAM</td>\n",
       "      <td>*******5199</td>\n",
       "      <td>OC</td>\n",
       "      <td>775</td>\n",
       "      <td>10000000</td>\n",
       "      <td>800</td>\n",
       "      <td>2770121</td>\n",
       "    </tr>\n",
       "    <tr>\n",
       "      <th>1</th>\n",
       "      <td>2</td>\n",
       "      <td>12-04-2019</td>\n",
       "      <td>ALL INDIA ANNA DRAVIDA MUNNETRA KAZHAGAM</td>\n",
       "      <td>*******5199</td>\n",
       "      <td>OC</td>\n",
       "      <td>3975</td>\n",
       "      <td>10000000</td>\n",
       "      <td>800</td>\n",
       "      <td>2770121</td>\n",
       "    </tr>\n",
       "  </tbody>\n",
       "</table>\n",
       "</div>"
      ],
      "text/plain": [
       "   Sr No. Date of Encashment               Name of the Political Party  \\\n",
       "0       1         12-04-2019  ALL INDIA ANNA DRAVIDA MUNNETRA KAZHAGAM   \n",
       "1       2         12-04-2019  ALL INDIA ANNA DRAVIDA MUNNETRA KAZHAGAM   \n",
       "\n",
       "  Account no. of Political Party Prefix  Bond Number  Denominations  \\\n",
       "0                    *******5199     OC          775       10000000   \n",
       "1                    *******5199     OC         3975       10000000   \n",
       "\n",
       "   Pay Branch Code  Pay Teller  \n",
       "0              800     2770121  \n",
       "1              800     2770121  "
      ]
     },
     "execution_count": 20,
     "metadata": {},
     "output_type": "execute_result"
    }
   ],
   "source": [
    "pat.head(2)"
   ]
  },
  {
   "cell_type": "code",
   "execution_count": 21,
   "metadata": {},
   "outputs": [],
   "source": [
    "pat['Prefix_Bond_Number'] = pat['Prefix'] + '_' + pat['Bond Number'].astype(str)"
   ]
  },
  {
   "cell_type": "code",
   "execution_count": 22,
   "metadata": {},
   "outputs": [
    {
     "name": "stdout",
     "output_type": "stream",
     "text": [
      "                          Name of the Political Party  Denominations\n",
      "5                              BHARATIYA JANATA PARTY    60605111000\n",
      "3                        ALL INDIA TRINAMOOL CONGRESS    16095314000\n",
      "16            PRESIDENT, ALL INDIA CONGRESS COMMITTEE    14218655000\n",
      "4                              BHARAT RASHTRA SAMITHI    12147099000\n",
      "7                                     BIJU JANATA DAL     7755000000\n",
      "8                     DRAVIDA MUNNETRA KAZHAGAM (DMK)     6390000000\n",
      "23  YSR  CONGRESS PARTY  (YUVAJANA SRAMIKA RYTHU C...     3370000000\n",
      "22                                 TELUGU DESAM PARTY     2188800000\n",
      "19                                           SHIVSENA     1593814000\n",
      "17                                RASHTRIYA JANTA DAL      735000000\n",
      "0                                     AAM AADMI PARTY      654500000\n",
      "12                             JANATA DAL ( SECULAR )      435000000\n",
      "21                           SIKKIM KRANTIKARI MORCHA      365000000\n",
      "15     NATIONALIST CONGRESS PARTY MAHARASHTRA PRADESH      310000000\n",
      "11                                     JANASENA PARTY      210000000\n",
      "1                            ADYAKSHA SAMAJVADI PARTY      140500000\n",
      "6                     BIHAR PRADESH JANTA DAL(UNITED)      140000000\n",
      "13                             JHARKHAND MUKTI MORCHA      135000000\n",
      "18                                SHIROMANI AKALI DAL       72600000\n",
      "2            ALL INDIA ANNA DRAVIDA MUNNETRA KAZHAGAM       60500000\n",
      "20                            SIKKIM DEMOCRATIC FRONT       55000000\n",
      "14                      MAHARASHTRAWADI GOMNTAK PARTY        5500000\n",
      "10              JAMMU AND KASHMIR NATIONAL CONFERENCE        5000000\n",
      "9                                   GOA FORWARD PARTY        3500000\n"
     ]
    }
   ],
   "source": [
    "grouped_df = pat.groupby(['Name of the Political Party'])['Denominations'].sum().reset_index()\n",
    "grouped_df_sorted = grouped_df.sort_values(by='Denominations', ascending=False)\n",
    "print(grouped_df_sorted)"
   ]
  },
  {
   "cell_type": "code",
   "execution_count": 23,
   "metadata": {},
   "outputs": [],
   "source": [
    "pat.drop(['Prefix', 'Bond Number','Sr No.','Account no. of Political Party','Denominations'], axis=1, inplace=True)"
   ]
  },
  {
   "cell_type": "code",
   "execution_count": 24,
   "metadata": {},
   "outputs": [
    {
     "name": "stdout",
     "output_type": "stream",
     "text": [
      "<class 'pandas.core.frame.DataFrame'>\n",
      "RangeIndex: 20421 entries, 0 to 20420\n",
      "Data columns (total 5 columns):\n",
      " #   Column                       Non-Null Count  Dtype \n",
      "---  ------                       --------------  ----- \n",
      " 0   Date of Encashment           20421 non-null  object\n",
      " 1   Name of the Political Party  20421 non-null  object\n",
      " 2   Pay Branch Code              20421 non-null  int64 \n",
      " 3   Pay Teller                   20421 non-null  int64 \n",
      " 4   Prefix_Bond_Number           20421 non-null  object\n",
      "dtypes: int64(2), object(3)\n",
      "memory usage: 797.8+ KB\n"
     ]
    }
   ],
   "source": [
    "pat.info()"
   ]
  },
  {
   "cell_type": "code",
   "execution_count": 25,
   "metadata": {},
   "outputs": [
    {
     "data": {
      "text/html": [
       "<div>\n",
       "<style scoped>\n",
       "    .dataframe tbody tr th:only-of-type {\n",
       "        vertical-align: middle;\n",
       "    }\n",
       "\n",
       "    .dataframe tbody tr th {\n",
       "        vertical-align: top;\n",
       "    }\n",
       "\n",
       "    .dataframe thead th {\n",
       "        text-align: right;\n",
       "    }\n",
       "</style>\n",
       "<table border=\"1\" class=\"dataframe\">\n",
       "  <thead>\n",
       "    <tr style=\"text-align: right;\">\n",
       "      <th></th>\n",
       "      <th>Date of Encashment</th>\n",
       "      <th>Name of the Political Party</th>\n",
       "      <th>Pay Branch Code</th>\n",
       "      <th>Pay Teller</th>\n",
       "      <th>Prefix_Bond_Number</th>\n",
       "    </tr>\n",
       "  </thead>\n",
       "  <tbody>\n",
       "    <tr>\n",
       "      <th>0</th>\n",
       "      <td>12-04-2019</td>\n",
       "      <td>ALL INDIA ANNA DRAVIDA MUNNETRA KAZHAGAM</td>\n",
       "      <td>800</td>\n",
       "      <td>2770121</td>\n",
       "      <td>OC_775</td>\n",
       "    </tr>\n",
       "    <tr>\n",
       "      <th>1</th>\n",
       "      <td>12-04-2019</td>\n",
       "      <td>ALL INDIA ANNA DRAVIDA MUNNETRA KAZHAGAM</td>\n",
       "      <td>800</td>\n",
       "      <td>2770121</td>\n",
       "      <td>OC_3975</td>\n",
       "    </tr>\n",
       "  </tbody>\n",
       "</table>\n",
       "</div>"
      ],
      "text/plain": [
       "  Date of Encashment               Name of the Political Party  \\\n",
       "0         12-04-2019  ALL INDIA ANNA DRAVIDA MUNNETRA KAZHAGAM   \n",
       "1         12-04-2019  ALL INDIA ANNA DRAVIDA MUNNETRA KAZHAGAM   \n",
       "\n",
       "   Pay Branch Code  Pay Teller Prefix_Bond_Number  \n",
       "0              800     2770121             OC_775  \n",
       "1              800     2770121            OC_3975  "
      ]
     },
     "execution_count": 25,
     "metadata": {},
     "output_type": "execute_result"
    }
   ],
   "source": [
    "pat.head(2)"
   ]
  },
  {
   "cell_type": "code",
   "execution_count": 26,
   "metadata": {},
   "outputs": [
    {
     "data": {
      "text/plain": [
       "Index([], dtype='object')"
      ]
     },
     "execution_count": 26,
     "metadata": {},
     "output_type": "execute_result"
    }
   ],
   "source": [
    "pat.columns[pat.isnull().any()]"
   ]
  },
  {
   "cell_type": "code",
   "execution_count": 27,
   "metadata": {},
   "outputs": [
    {
     "name": "stdout",
     "output_type": "stream",
     "text": [
      "No duplicate records found.\n"
     ]
    }
   ],
   "source": [
    "#pat[pat.duplicated()]\n",
    "# Call the function with your DataFrame\n",
    "find_duplicate_records(pat)"
   ]
  },
  {
   "cell_type": "markdown",
   "metadata": {},
   "source": [
    "Merging Two dataframe"
   ]
  },
  {
   "cell_type": "code",
   "execution_count": 28,
   "metadata": {},
   "outputs": [
    {
     "data": {
      "text/html": [
       "<div>\n",
       "<style scoped>\n",
       "    .dataframe tbody tr th:only-of-type {\n",
       "        vertical-align: middle;\n",
       "    }\n",
       "\n",
       "    .dataframe tbody tr th {\n",
       "        vertical-align: top;\n",
       "    }\n",
       "\n",
       "    .dataframe thead th {\n",
       "        text-align: right;\n",
       "    }\n",
       "</style>\n",
       "<table border=\"1\" class=\"dataframe\">\n",
       "  <thead>\n",
       "    <tr style=\"text-align: right;\">\n",
       "      <th></th>\n",
       "      <th>Journal Date</th>\n",
       "      <th>Date of  Purchase</th>\n",
       "      <th>Date of Expiry</th>\n",
       "      <th>Name of the Purchaser</th>\n",
       "      <th>Denominations</th>\n",
       "      <th>Issue Branch Code</th>\n",
       "      <th>Issue Teller</th>\n",
       "      <th>Prefix_Bond_Number</th>\n",
       "      <th>Date of Encashment</th>\n",
       "      <th>Name of the Political Party</th>\n",
       "      <th>Pay Branch Code</th>\n",
       "      <th>Pay Teller</th>\n",
       "    </tr>\n",
       "  </thead>\n",
       "  <tbody>\n",
       "    <tr>\n",
       "      <th>0</th>\n",
       "      <td>12-04-2019</td>\n",
       "      <td>12-04-2019</td>\n",
       "      <td>26-04-2019</td>\n",
       "      <td>A B C INDIA LIMITED</td>\n",
       "      <td>1000000</td>\n",
       "      <td>1</td>\n",
       "      <td>5899230</td>\n",
       "      <td>TL_11448</td>\n",
       "      <td>25-04-2019</td>\n",
       "      <td>BHARATIYA JANATA PARTY</td>\n",
       "      <td>691</td>\n",
       "      <td>3300196</td>\n",
       "    </tr>\n",
       "    <tr>\n",
       "      <th>1</th>\n",
       "      <td>12-04-2019</td>\n",
       "      <td>12-04-2019</td>\n",
       "      <td>26-04-2019</td>\n",
       "      <td>A B C INDIA LIMITED</td>\n",
       "      <td>1000000</td>\n",
       "      <td>1</td>\n",
       "      <td>5899230</td>\n",
       "      <td>TL_11447</td>\n",
       "      <td>25-04-2019</td>\n",
       "      <td>BHARATIYA JANATA PARTY</td>\n",
       "      <td>691</td>\n",
       "      <td>3300196</td>\n",
       "    </tr>\n",
       "  </tbody>\n",
       "</table>\n",
       "</div>"
      ],
      "text/plain": [
       "  Journal Date Date of  Purchase Date of Expiry Name of the Purchaser  \\\n",
       "0   12-04-2019        12-04-2019     26-04-2019   A B C INDIA LIMITED   \n",
       "1   12-04-2019        12-04-2019     26-04-2019   A B C INDIA LIMITED   \n",
       "\n",
       "   Denominations  Issue Branch Code  Issue Teller Prefix_Bond_Number  \\\n",
       "0        1000000                  1       5899230           TL_11448   \n",
       "1        1000000                  1       5899230           TL_11447   \n",
       "\n",
       "  Date of Encashment Name of the Political Party  Pay Branch Code  Pay Teller  \n",
       "0         25-04-2019      BHARATIYA JANATA PARTY              691     3300196  \n",
       "1         25-04-2019      BHARATIYA JANATA PARTY              691     3300196  "
      ]
     },
     "execution_count": 28,
     "metadata": {},
     "output_type": "execute_result"
    }
   ],
   "source": [
    "merged_df = pd.merge(com, pat, on='Prefix_Bond_Number', how='inner')\n",
    "merged_df.head(2)"
   ]
  },
  {
   "cell_type": "code",
   "execution_count": 29,
   "metadata": {},
   "outputs": [
    {
     "name": "stdout",
     "output_type": "stream",
     "text": [
      "No.of Company records :  18871\n",
      "No.of Party records :  20421\n",
      "No.of Merged data records :  18741\n"
     ]
    }
   ],
   "source": [
    "print(\"No.of Company records : \",len(com))\n",
    "print(\"No.of Party records : \",len(pat))\n",
    "print(\"No.of Merged data records : \",len(merged_df))"
   ]
  },
  {
   "cell_type": "code",
   "execution_count": 30,
   "metadata": {},
   "outputs": [
    {
     "name": "stdout",
     "output_type": "stream",
     "text": [
      "<class 'pandas.core.frame.DataFrame'>\n",
      "RangeIndex: 18741 entries, 0 to 18740\n",
      "Data columns (total 12 columns):\n",
      " #   Column                       Non-Null Count  Dtype \n",
      "---  ------                       --------------  ----- \n",
      " 0   Journal Date                 18741 non-null  object\n",
      " 1   Date of  Purchase            18741 non-null  object\n",
      " 2   Date of Expiry               18741 non-null  object\n",
      " 3   Name of the Purchaser        18741 non-null  object\n",
      " 4   Denominations                18741 non-null  int64 \n",
      " 5   Issue Branch Code            18741 non-null  int64 \n",
      " 6   Issue Teller                 18741 non-null  int64 \n",
      " 7   Prefix_Bond_Number           18741 non-null  object\n",
      " 8   Date of Encashment           18741 non-null  object\n",
      " 9   Name of the Political Party  18741 non-null  object\n",
      " 10  Pay Branch Code              18741 non-null  int64 \n",
      " 11  Pay Teller                   18741 non-null  int64 \n",
      "dtypes: int64(5), object(7)\n",
      "memory usage: 1.7+ MB\n"
     ]
    }
   ],
   "source": [
    "merged_df.info()"
   ]
  },
  {
   "cell_type": "code",
   "execution_count": 31,
   "metadata": {},
   "outputs": [],
   "source": [
    "merged_df=merged_df[['Prefix_Bond_Number','Date of  Purchase','Name of the Purchaser','Issue Branch Code','Date of Encashment','Name of the Political Party','Pay Branch Code','Denominations']]"
   ]
  },
  {
   "cell_type": "code",
   "execution_count": 32,
   "metadata": {},
   "outputs": [
    {
     "data": {
      "text/html": [
       "<div>\n",
       "<style scoped>\n",
       "    .dataframe tbody tr th:only-of-type {\n",
       "        vertical-align: middle;\n",
       "    }\n",
       "\n",
       "    .dataframe tbody tr th {\n",
       "        vertical-align: top;\n",
       "    }\n",
       "\n",
       "    .dataframe thead th {\n",
       "        text-align: right;\n",
       "    }\n",
       "</style>\n",
       "<table border=\"1\" class=\"dataframe\">\n",
       "  <thead>\n",
       "    <tr style=\"text-align: right;\">\n",
       "      <th></th>\n",
       "      <th>Prefix_Bond_Number</th>\n",
       "      <th>Date of  Purchase</th>\n",
       "      <th>Name of the Purchaser</th>\n",
       "      <th>Issue Branch Code</th>\n",
       "      <th>Date of Encashment</th>\n",
       "      <th>Name of the Political Party</th>\n",
       "      <th>Pay Branch Code</th>\n",
       "      <th>Denominations</th>\n",
       "    </tr>\n",
       "  </thead>\n",
       "  <tbody>\n",
       "    <tr>\n",
       "      <th>18736</th>\n",
       "      <td>OC_15695</td>\n",
       "      <td>11-01-2024</td>\n",
       "      <td>WESTWELL GASES PRIVATE LIMITED</td>\n",
       "      <td>1</td>\n",
       "      <td>23-01-2024</td>\n",
       "      <td>DRAVIDA MUNNETRA KAZHAGAM (DMK)</td>\n",
       "      <td>800</td>\n",
       "      <td>10000000</td>\n",
       "    </tr>\n",
       "    <tr>\n",
       "      <th>18737</th>\n",
       "      <td>OC_15693</td>\n",
       "      <td>11-01-2024</td>\n",
       "      <td>WESTWELL GASES PRIVATE LIMITED</td>\n",
       "      <td>1</td>\n",
       "      <td>23-01-2024</td>\n",
       "      <td>DRAVIDA MUNNETRA KAZHAGAM (DMK)</td>\n",
       "      <td>800</td>\n",
       "      <td>10000000</td>\n",
       "    </tr>\n",
       "    <tr>\n",
       "      <th>18738</th>\n",
       "      <td>OC_15697</td>\n",
       "      <td>11-01-2024</td>\n",
       "      <td>WESTWELL GASES PRIVATE LIMITED</td>\n",
       "      <td>1</td>\n",
       "      <td>23-01-2024</td>\n",
       "      <td>DRAVIDA MUNNETRA KAZHAGAM (DMK)</td>\n",
       "      <td>800</td>\n",
       "      <td>10000000</td>\n",
       "    </tr>\n",
       "    <tr>\n",
       "      <th>18739</th>\n",
       "      <td>OC_17803</td>\n",
       "      <td>11-01-2024</td>\n",
       "      <td>WESTWELL GASES PRIVATE LIMITED</td>\n",
       "      <td>1</td>\n",
       "      <td>23-01-2024</td>\n",
       "      <td>DRAVIDA MUNNETRA KAZHAGAM (DMK)</td>\n",
       "      <td>800</td>\n",
       "      <td>10000000</td>\n",
       "    </tr>\n",
       "    <tr>\n",
       "      <th>18740</th>\n",
       "      <td>OC_15691</td>\n",
       "      <td>11-01-2024</td>\n",
       "      <td>WESTWELL GASES PRIVATE LIMITED</td>\n",
       "      <td>1</td>\n",
       "      <td>23-01-2024</td>\n",
       "      <td>DRAVIDA MUNNETRA KAZHAGAM (DMK)</td>\n",
       "      <td>800</td>\n",
       "      <td>10000000</td>\n",
       "    </tr>\n",
       "  </tbody>\n",
       "</table>\n",
       "</div>"
      ],
      "text/plain": [
       "      Prefix_Bond_Number Date of  Purchase           Name of the Purchaser  \\\n",
       "18736           OC_15695        11-01-2024  WESTWELL GASES PRIVATE LIMITED   \n",
       "18737           OC_15693        11-01-2024  WESTWELL GASES PRIVATE LIMITED   \n",
       "18738           OC_15697        11-01-2024  WESTWELL GASES PRIVATE LIMITED   \n",
       "18739           OC_17803        11-01-2024  WESTWELL GASES PRIVATE LIMITED   \n",
       "18740           OC_15691        11-01-2024  WESTWELL GASES PRIVATE LIMITED   \n",
       "\n",
       "       Issue Branch Code Date of Encashment      Name of the Political Party  \\\n",
       "18736                  1         23-01-2024  DRAVIDA MUNNETRA KAZHAGAM (DMK)   \n",
       "18737                  1         23-01-2024  DRAVIDA MUNNETRA KAZHAGAM (DMK)   \n",
       "18738                  1         23-01-2024  DRAVIDA MUNNETRA KAZHAGAM (DMK)   \n",
       "18739                  1         23-01-2024  DRAVIDA MUNNETRA KAZHAGAM (DMK)   \n",
       "18740                  1         23-01-2024  DRAVIDA MUNNETRA KAZHAGAM (DMK)   \n",
       "\n",
       "       Pay Branch Code  Denominations  \n",
       "18736              800       10000000  \n",
       "18737              800       10000000  \n",
       "18738              800       10000000  \n",
       "18739              800       10000000  \n",
       "18740              800       10000000  "
      ]
     },
     "execution_count": 32,
     "metadata": {},
     "output_type": "execute_result"
    }
   ],
   "source": [
    "merged_df.tail(5)"
   ]
  },
  {
   "cell_type": "code",
   "execution_count": 33,
   "metadata": {},
   "outputs": [
    {
     "name": "stdout",
     "output_type": "stream",
     "text": [
      "<class 'pandas.core.frame.DataFrame'>\n",
      "RangeIndex: 18741 entries, 0 to 18740\n",
      "Data columns (total 8 columns):\n",
      " #   Column                       Non-Null Count  Dtype \n",
      "---  ------                       --------------  ----- \n",
      " 0   Prefix_Bond_Number           18741 non-null  object\n",
      " 1   Date of  Purchase            18741 non-null  object\n",
      " 2   Name of the Purchaser        18741 non-null  object\n",
      " 3   Issue Branch Code            18741 non-null  int64 \n",
      " 4   Date of Encashment           18741 non-null  object\n",
      " 5   Name of the Political Party  18741 non-null  object\n",
      " 6   Pay Branch Code              18741 non-null  int64 \n",
      " 7   Denominations                18741 non-null  int64 \n",
      "dtypes: int64(3), object(5)\n",
      "memory usage: 1.1+ MB\n"
     ]
    }
   ],
   "source": [
    "merged_df.info()"
   ]
  },
  {
   "cell_type": "code",
   "execution_count": 34,
   "metadata": {},
   "outputs": [
    {
     "name": "stdout",
     "output_type": "stream",
     "text": [
      "No.of records present in only Party dataset :  1680\n"
     ]
    }
   ],
   "source": [
    "# Merge the DataFrames with an indicator\n",
    "merged_with_indicator = pd.merge(com, pat, on='Prefix_Bond_Number', how='outer', indicator=True)\n",
    "# Filter rows that are only present in Party.csv\n",
    "party_only_rows = merged_with_indicator[merged_with_indicator['_merge'] == 'right_only']\n",
    "print(\"No.of records present in only Party dataset : \",len(party_only_rows))"
   ]
  },
  {
   "cell_type": "code",
   "execution_count": 35,
   "metadata": {},
   "outputs": [
    {
     "name": "stdout",
     "output_type": "stream",
     "text": [
      "No.of records present in only Company dataset :  130\n"
     ]
    }
   ],
   "source": [
    "# Merge the DataFrames with an indicator\n",
    "merged_with_indicator = pd.merge(com, pat, on='Prefix_Bond_Number', how='left', indicator=True)\n",
    "# Filter rows that are only present in Company.csv\n",
    "company_only_rows = merged_with_indicator[merged_with_indicator['_merge'] == 'left_only']\n",
    "print(\"No.of records present in only Company dataset : \",len(company_only_rows))\n"
   ]
  },
  {
   "cell_type": "code",
   "execution_count": 36,
   "metadata": {},
   "outputs": [
    {
     "name": "stdout",
     "output_type": "stream",
     "text": [
      "No.of records common in both :  18741\n"
     ]
    }
   ],
   "source": [
    "# Merge the DataFrames with an indicator\n",
    "merged_with_indicator = pd.merge(com, pat, on='Prefix_Bond_Number', how='inner', indicator=True)\n",
    "# Count the number of rows common in both DataFrames\n",
    "common_rows_count = (merged_with_indicator['_merge'] == 'both')\n",
    "print(\"No.of records common in both : \",len(common_rows_count))\n"
   ]
  },
  {
   "cell_type": "code",
   "execution_count": 37,
   "metadata": {},
   "outputs": [
    {
     "name": "stdout",
     "output_type": "stream",
     "text": [
      "No.of Company records :  18871\n",
      "No.of records present in only Company dataset not in party dataset :  130\n",
      "No.of Party records :  20421\n",
      "No.of records present in only Party dataset not in company dataset :  1680\n",
      "No.of records common in both :  18741\n"
     ]
    }
   ],
   "source": [
    "print(\"No.of Company records : \",len(com))\n",
    "print(\"No.of records present in only Company dataset not in party dataset : \",len(company_only_rows))\n",
    "print(\"No.of Party records : \",len(pat))\n",
    "print(\"No.of records present in only Party dataset not in company dataset : \",len(party_only_rows))\n",
    "print(\"No.of records common in both : \",len(common_rows_count))"
   ]
  },
  {
   "cell_type": "code",
   "execution_count": 38,
   "metadata": {},
   "outputs": [
    {
     "name": "stdout",
     "output_type": "stream",
     "text": [
      "In merged data :-\n",
      "No.of data records :  18741\n",
      "No.of distinct Companies :  1297\n",
      "No.of distinct Parties :  23\n"
     ]
    }
   ],
   "source": [
    "print(\"In merged data :-\")\n",
    "print(\"No.of data records : \",len(merged_df))\n",
    "print('No.of distinct Companies : ',len(merged_df['Name of the Purchaser'].unique()))\n",
    "print('No.of distinct Parties : ',len(merged_df['Name of the Political Party'].unique()))"
   ]
  },
  {
   "cell_type": "code",
   "execution_count": 39,
   "metadata": {},
   "outputs": [
    {
     "name": "stdout",
     "output_type": "stream",
     "text": [
      "                          Name of the Political Party  Denominations\n",
      "4                              BHARATIYA JANATA PARTY    55942011000\n",
      "2                        ALL INDIA TRINAMOOL CONGRESS    15925214000\n",
      "15            PRESIDENT, ALL INDIA CONGRESS COMMITTEE    13510945000\n",
      "3                              BHARAT RASHTRA SAMITHI    11911599000\n",
      "6                                     BIJU JANATA DAL     7755000000\n",
      "7                     DRAVIDA MUNNETRA KAZHAGAM (DMK)     6320000000\n",
      "22  YSR  CONGRESS PARTY  (YUVAJANA SRAMIKA RYTHU C...     3287500000\n",
      "21                                 TELUGU DESAM PARTY     2115800000\n",
      "18                                           SHIVSENA     1524514000\n",
      "16                                RASHTRIYA JANTA DAL      725000000\n",
      "0                                     AAM AADMI PARTY      652500000\n",
      "11                             JANATA DAL ( SECULAR )      410000000\n",
      "20                           SIKKIM KRANTIKARI MORCHA      365000000\n",
      "14     NATIONALIST CONGRESS PARTY MAHARASHTRA PRADESH      285000000\n",
      "10                                     JANASENA PARTY      210000000\n",
      "1                            ADYAKSHA SAMAJVADI PARTY      132100000\n",
      "12                             JHARKHAND MUKTI MORCHA      125000000\n",
      "5                     BIHAR PRADESH JANTA DAL(UNITED)      120000000\n",
      "17                                SHIROMANI AKALI DAL       72600000\n",
      "19                            SIKKIM DEMOCRATIC FRONT       55000000\n",
      "13                      MAHARASHTRAWADI GOMNTAK PARTY        5500000\n",
      "9               JAMMU AND KASHMIR NATIONAL CONFERENCE        5000000\n",
      "8                                   GOA FORWARD PARTY        3500000\n"
     ]
    }
   ],
   "source": [
    "grouped_df = merged_df.groupby(['Name of the Political Party'])['Denominations'].sum().reset_index()\n",
    "grouped_df_sorted = grouped_df.sort_values(by='Denominations', ascending=False)\n",
    "print(grouped_df_sorted)"
   ]
  },
  {
   "cell_type": "code",
   "execution_count": 40,
   "metadata": {},
   "outputs": [
    {
     "name": "stdout",
     "output_type": "stream",
     "text": [
      "                   Name of the Purchaser  \\\n",
      "0                      14 REELS PLUS LLP   \n",
      "1                    A B C INDIA LIMITED   \n",
      "2                       AAKANKSHA BAHETY   \n",
      "3                   AALAYA CONSTRUCTIONS   \n",
      "4     AARISH SOLAR POWER PRIVATE LIMITED   \n",
      "...                                  ...   \n",
      "1653        ZUVAN ENERGY PRIVATE LIMITED   \n",
      "1654                ZUVAN ENERGY PVT LTD   \n",
      "1655            ZYDUS HEALTHCARE LIMITED   \n",
      "1656            ZYDUS HEALTHCARE LIMITED   \n",
      "1657            ZYDUS HEALTHCARE LIMITED   \n",
      "\n",
      "                            Name of the Political Party  Denominations  \n",
      "0                                BHARAT RASHTRA SAMITHI       10000000  \n",
      "1                                BHARATIYA JANATA PARTY        4000000  \n",
      "2               PRESIDENT, ALL INDIA CONGRESS COMMITTEE        1000000  \n",
      "3                                BHARAT RASHTRA SAMITHI       10000000  \n",
      "4     YSR  CONGRESS PARTY  (YUVAJANA SRAMIKA RYTHU C...       20000000  \n",
      "...                                                 ...            ...  \n",
      "1653  YSR  CONGRESS PARTY  (YUVAJANA SRAMIKA RYTHU C...       10000000  \n",
      "1654                             BHARAT RASHTRA SAMITHI       20000000  \n",
      "1655                             BHARATIYA JANATA PARTY      180000000  \n",
      "1656            PRESIDENT, ALL INDIA CONGRESS COMMITTEE       30000000  \n",
      "1657                           SIKKIM KRANTIKARI MORCHA       80000000  \n",
      "\n",
      "[1658 rows x 3 columns]\n"
     ]
    }
   ],
   "source": [
    "grouped_df = merged_df.groupby(['Name of the Purchaser', 'Name of the Political Party'])['Denominations'].sum().reset_index()\n",
    "grouped_df_sorted = grouped_df.sort_values(by='Denominations', ascending=False)\n",
    "print(grouped_df)\n"
   ]
  },
  {
   "cell_type": "code",
   "execution_count": 41,
   "metadata": {},
   "outputs": [
    {
     "name": "stdout",
     "output_type": "stream",
     "text": [
      "    Issue Branch Code  Denominations\n",
      "14                847    29189070000\n",
      "6                 300    27168180000\n",
      "0                   1    24311118000\n",
      "11                691    16827700000\n",
      "12                800    13371501000\n",
      "18               1355     4606213000\n",
      "13                813     1442800000\n",
      "1                  41     1357500000\n",
      "10                656     1022100000\n",
      "3                 125      542100000\n",
      "9                 628      518100000\n",
      "8                 509      282000000\n",
      "15                941      262000000\n",
      "17               1308      182400000\n",
      "7                 461      147501000\n",
      "2                  78      101500000\n",
      "16                952       69000000\n",
      "5                 167       50000000\n",
      "4                 152        8000000\n"
     ]
    }
   ],
   "source": [
    "grouped_df = merged_df.groupby(['Issue Branch Code'])['Denominations'].sum().reset_index()\n",
    "grouped_df_sorted = grouped_df.sort_values(by='Denominations', ascending=False)\n",
    "print(grouped_df_sorted)"
   ]
  },
  {
   "cell_type": "code",
   "execution_count": 42,
   "metadata": {},
   "outputs": [
    {
     "name": "stdout",
     "output_type": "stream",
     "text": [
      "6808\n"
     ]
    }
   ],
   "source": [
    "# Assuming 'Date of Purchase' column is already in datetime format, if not, convert it:\n",
    "merged_df['Date of  Purchase'] = pd.to_datetime(merged_df['Date of  Purchase'], format=\"%d-%m-%Y\")\n",
    "\n",
    "# Calculate the date range for the last 1 year\n",
    "one_year_ago = pd.Timestamp.now() - pd.DateOffset(years=1)\n",
    "\n",
    "# Filter the DataFrame for the last 1 year of purchases\n",
    "last_year_purchases = merged_df[merged_df['Date of  Purchase'] >= one_year_ago]\n",
    "\n",
    "print(len(last_year_purchases))\n"
   ]
  },
  {
   "cell_type": "code",
   "execution_count": 46,
   "metadata": {},
   "outputs": [
    {
     "name": "stdout",
     "output_type": "stream",
     "text": [
      "No. of Parties and Companies they got investment from, and Total Denomination in Descending Order:\n",
      "                                                    num_companies  \\\n",
      "Name of the Political Party                                         \n",
      "BHARATIYA JANATA PARTY                                        523   \n",
      "ALL INDIA TRINAMOOL CONGRESS                                  227   \n",
      "PRESIDENT, ALL INDIA CONGRESS COMMITTEE                       351   \n",
      "BHARAT RASHTRA SAMITHI                                        233   \n",
      "BIJU JANATA DAL                                                47   \n",
      "DRAVIDA MUNNETRA KAZHAGAM (DMK)                                15   \n",
      "YSR  CONGRESS PARTY  (YUVAJANA SRAMIKA RYTHU CO...             52   \n",
      "TELUGU DESAM PARTY                                             37   \n",
      "SHIVSENA                                                       35   \n",
      "RASHTRIYA JANTA DAL                                            24   \n",
      "AAM AADMI PARTY                                                55   \n",
      "JANATA DAL ( SECULAR )                                          8   \n",
      "SIKKIM KRANTIKARI MORCHA                                        6   \n",
      "NATIONALIST CONGRESS PARTY MAHARASHTRA PRADESH                 13   \n",
      "JANASENA PARTY                                                  5   \n",
      "ADYAKSHA SAMAJVADI PARTY                                        3   \n",
      "JHARKHAND MUKTI MORCHA                                          7   \n",
      "BIHAR PRADESH JANTA DAL(UNITED)                                 3   \n",
      "SHIROMANI AKALI DAL                                             7   \n",
      "SIKKIM DEMOCRATIC FRONT                                         2   \n",
      "MAHARASHTRAWADI GOMNTAK PARTY                                   2   \n",
      "JAMMU AND KASHMIR NATIONAL CONFERENCE                           1   \n",
      "GOA FORWARD PARTY                                               2   \n",
      "\n",
      "                                                    total_denomination  \n",
      "Name of the Political Party                                             \n",
      "BHARATIYA JANATA PARTY                                     55942011000  \n",
      "ALL INDIA TRINAMOOL CONGRESS                               15925214000  \n",
      "PRESIDENT, ALL INDIA CONGRESS COMMITTEE                    13510945000  \n",
      "BHARAT RASHTRA SAMITHI                                     11911599000  \n",
      "BIJU JANATA DAL                                             7755000000  \n",
      "DRAVIDA MUNNETRA KAZHAGAM (DMK)                             6320000000  \n",
      "YSR  CONGRESS PARTY  (YUVAJANA SRAMIKA RYTHU CO...          3287500000  \n",
      "TELUGU DESAM PARTY                                          2115800000  \n",
      "SHIVSENA                                                    1524514000  \n",
      "RASHTRIYA JANTA DAL                                          725000000  \n",
      "AAM AADMI PARTY                                              652500000  \n",
      "JANATA DAL ( SECULAR )                                       410000000  \n",
      "SIKKIM KRANTIKARI MORCHA                                     365000000  \n",
      "NATIONALIST CONGRESS PARTY MAHARASHTRA PRADESH               285000000  \n",
      "JANASENA PARTY                                               210000000  \n",
      "ADYAKSHA SAMAJVADI PARTY                                     132100000  \n",
      "JHARKHAND MUKTI MORCHA                                       125000000  \n",
      "BIHAR PRADESH JANTA DAL(UNITED)                              120000000  \n",
      "SHIROMANI AKALI DAL                                           72600000  \n",
      "SIKKIM DEMOCRATIC FRONT                                       55000000  \n",
      "MAHARASHTRAWADI GOMNTAK PARTY                                  5500000  \n",
      "JAMMU AND KASHMIR NATIONAL CONFERENCE                          5000000  \n",
      "GOA FORWARD PARTY                                              3500000  \n"
     ]
    }
   ],
   "source": [
    "# Grouping the DataFrame by 'Name of the Political Party'\n",
    "grouped_by_party = merged_df.groupby('Name of the Political Party')\n",
    "\n",
    "# Calculate the number of unique companies and the total denomination for each party\n",
    "party_summary = grouped_by_party.agg(num_companies=('Name of the Purchaser', 'nunique'),\n",
    "                                     total_denomination=('Denominations', 'sum'))\n",
    "\n",
    "# Sort the result by the total denomination in descending order\n",
    "party_summary_sorted = party_summary.sort_values(by='total_denomination', ascending=False)\n",
    "\n",
    "# Print the result\n",
    "print(\"No. of Parties and Companies they got investment from, and Total Denomination in Descending Order:\")\n",
    "print(party_summary_sorted)\n"
   ]
  }
 ],
 "metadata": {
  "kernelspec": {
   "display_name": "Python 3",
   "language": "python",
   "name": "python3"
  },
  "language_info": {
   "codemirror_mode": {
    "name": "ipython",
    "version": 3
   },
   "file_extension": ".py",
   "mimetype": "text/x-python",
   "name": "python",
   "nbconvert_exporter": "python",
   "pygments_lexer": "ipython3",
   "version": "3.9.6"
  }
 },
 "nbformat": 4,
 "nbformat_minor": 2
}
